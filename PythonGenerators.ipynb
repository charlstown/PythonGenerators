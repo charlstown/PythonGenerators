{
 "cells": [
  {
   "cell_type": "markdown",
   "metadata": {},
   "source": [
    "# 1. Generator Functions and Expressions\n",
    "Python provides a generator to create your own iterator function. A generator is a special type of function which does not return a single value, instead, it returns an iterator object with a sequence of values. In a generator function, a yield statement is used rather than a return statement. The following is a simple generator function."
   ]
  },
  {
   "cell_type": "markdown",
   "metadata": {},
   "source": [
    "## Iterators\n",
    "- Maintain state\n",
    "- Use \"lazy evaluation\"\n",
    "- Doesn't store sequence in memory"
   ]
  },
  {
   "cell_type": "markdown",
   "metadata": {},
   "source": [
    "## Generator function"
   ]
  },
  {
   "cell_type": "code",
   "execution_count": 22,
   "metadata": {},
   "outputs": [
    {
     "name": "stdout",
     "output_type": "stream",
     "text": [
      "[0, 2, 4, 6, 8, 10]\n",
      "[0, 2, 4, 6, 8, 10]\n"
     ]
    }
   ],
   "source": [
    "# Function solution\n",
    "def even_integers_function(n):\n",
    "    result = []\n",
    "    for i in range(0, n+1, 2):\n",
    "        result.append(i)\n",
    "    return result\n",
    "\n",
    "# Generator function\n",
    "def even_integers_generator(n):\n",
    "    for i in range(0, n+1, 2):\n",
    "        yield i\n",
    "\n",
    "# CODE\n",
    "number = 10\n",
    "function = even_integers_function(number)\n",
    "generator = list(even_integers_generator(number))\n",
    "\n",
    "print(function)\n",
    "print(generator)"
   ]
  },
  {
   "cell_type": "markdown",
   "metadata": {},
   "source": [
    "## Generator expression"
   ]
  },
  {
   "cell_type": "code",
   "execution_count": 23,
   "metadata": {},
   "outputs": [
    {
     "name": "stdout",
     "output_type": "stream",
     "text": [
      "['ADAM', 'ANNE', 'BARRY', 'BRIANNE', 'CHARLIE', 'CASSANDRA', 'DAVID', 'DANA']\n",
      "['ADAM', 'ANNE', 'BARRY', 'BRIANNE', 'CHARLIE', 'CASSANDRA', 'DAVID', 'DANA']\n"
     ]
    }
   ],
   "source": [
    "# Create the collection\n",
    "names_list = ['Adam','Anne','Barry','Brianne',\n",
    "              'Charlie','Cassandra','David','Dana']\n",
    "\n",
    "# List comprenhension\n",
    "list_comprenhension = [item.upper() for item in names_list]\n",
    "\n",
    "# Generator expression\n",
    "generator_expression = (item.upper() for item in names_list)\n",
    "\n",
    "# Print the list comprenhension output\n",
    "print(list_comprenhension) # return a list\n",
    "\n",
    "# Print the generator expression output\n",
    "print(list(generator_expression)) # return a generator object"
   ]
  },
  {
   "cell_type": "markdown",
   "metadata": {},
   "source": [
    "## Generator object"
   ]
  },
  {
   "cell_type": "code",
   "execution_count": 101,
   "metadata": {
    "scrolled": true
   },
   "outputs": [
    {
     "name": "stdout",
     "output_type": "stream",
     "text": [
      "0\n",
      "2\n",
      "4\n",
      "6\n",
      "8\n",
      "10\n"
     ]
    },
    {
     "ename": "StopIteration",
     "evalue": "",
     "output_type": "error",
     "traceback": [
      "\u001b[1;31m---------------------------------------------------------------------------\u001b[0m",
      "\u001b[1;31mStopIteration\u001b[0m                             Traceback (most recent call last)",
      "\u001b[1;32m<ipython-input-101-99aabfd78e63>\u001b[0m in \u001b[0;36m<module>\u001b[1;34m\u001b[0m\n\u001b[0;32m     12\u001b[0m \u001b[0mprint\u001b[0m\u001b[1;33m(\u001b[0m\u001b[0mnext\u001b[0m\u001b[1;33m(\u001b[0m\u001b[0mintegers\u001b[0m\u001b[1;33m)\u001b[0m\u001b[1;33m)\u001b[0m\u001b[1;33m\u001b[0m\u001b[1;33m\u001b[0m\u001b[0m\n\u001b[0;32m     13\u001b[0m \u001b[1;32mtry\u001b[0m\u001b[1;33m:\u001b[0m\u001b[1;33m\u001b[0m\u001b[1;33m\u001b[0m\u001b[0m\n\u001b[1;32m---> 14\u001b[1;33m     \u001b[0mprint\u001b[0m\u001b[1;33m(\u001b[0m\u001b[0mnext\u001b[0m\u001b[1;33m(\u001b[0m\u001b[0mintegers\u001b[0m\u001b[1;33m)\u001b[0m\u001b[1;33m)\u001b[0m\u001b[1;33m\u001b[0m\u001b[1;33m\u001b[0m\u001b[0m\n\u001b[0m\u001b[0;32m     15\u001b[0m \u001b[1;32mexcept\u001b[0m \u001b[0mValueError\u001b[0m\u001b[1;33m:\u001b[0m\u001b[1;33m\u001b[0m\u001b[1;33m\u001b[0m\u001b[0m\n\u001b[0;32m     16\u001b[0m     \u001b[1;32mraise\u001b[0m \u001b[1;34m'Generator is exahusted!'\u001b[0m\u001b[1;33m\u001b[0m\u001b[1;33m\u001b[0m\u001b[0m\n",
      "\u001b[1;31mStopIteration\u001b[0m: "
     ]
    }
   ],
   "source": [
    "# Generator function\n",
    "def even_integers_generator(n):\n",
    "    for i in range(0, n+1, 2):\n",
    "        yield i\n",
    "        \n",
    "integers = even_integers_generator(10)\n",
    "print(next(integers))\n",
    "print(next(integers))\n",
    "print(next(integers))\n",
    "print(next(integers))\n",
    "print(next(integers))\n",
    "print(next(integers))\n",
    "try:\n",
    "    print(next(integers))\n",
    "except ValueError:\n",
    "    raise 'Generator is exahusted!'\n"
   ]
  },
  {
   "cell_type": "markdown",
   "metadata": {},
   "source": [
    "Avoiding exahusted generator"
   ]
  },
  {
   "cell_type": "code",
   "execution_count": 102,
   "metadata": {
    "scrolled": true
   },
   "outputs": [
    {
     "name": "stdout",
     "output_type": "stream",
     "text": [
      "Running gnerator 3 as a variable\n",
      "0\n",
      "2\n",
      "Error: Generator is exahusted!\n",
      "Avoiding exahusted generator\n",
      "0\n",
      "2\n"
     ]
    }
   ],
   "source": [
    "generator_3 = even_integers_generator(3)\n",
    "\n",
    "# Generator in a loop\n",
    "print(\"Running generator 3 as a variable\")\n",
    "for i in generator_3:\n",
    "    print(i)\n",
    "\n",
    "# Try to print exahusted generator\n",
    "try:\n",
    "    next(generator_3)\n",
    "except StopIteration as e:\n",
    "    print('Error: Generator is exahusted!')\n",
    "    \n",
    "# Avoid the exahusted generator\n",
    "print('Avoiding exahusted generator')\n",
    "for i in even_integers_generator(3):\n",
    "    print(i)"
   ]
  },
  {
   "cell_type": "markdown",
   "metadata": {},
   "source": [
    "## Generator pipeline\n",
    "- Several pipes can be linked together.\n",
    "- Items flow one by one through the entire pipeline.\n",
    "- Pipeline funtionality can be packaged into callable functions."
   ]
  },
  {
   "cell_type": "code",
   "execution_count": 129,
   "metadata": {},
   "outputs": [
    {
     "data": {
      "text/plain": [
       "('Mondragon', 9)"
      ]
     },
     "execution_count": 129,
     "metadata": {},
     "output_type": "execute_result"
    }
   ],
   "source": [
    "import re\n",
    "\n",
    "names = \"\"\"Rhoda Hajduk\n",
    "Armanda Pilling\n",
    "Lahoma Mondragon\n",
    "Angle Rase\n",
    "Dave Cudd\n",
    "Dawna Estey\n",
    "Jone Jiron\n",
    "Karina Vandyne\n",
    "Calista Overbay\n",
    "Cherise Retana\n",
    "Pearly Breece\n",
    "Lashanda Demoura\n",
    "Jannie Hickey\"\"\"\n",
    "\n",
    "# Names generator\n",
    "names_generator = (name for name in re.split(' |\\n', names))\n",
    "\n",
    "# Lengths and name generator\n",
    "lengths_generator = ((name, len(name)) for name in names_generator)\n",
    "\n",
    "# Find the longest name in the tuples generator\n",
    "max(lengths_generator, key=lambda x: x[1])"
   ]
  },
  {
   "cell_type": "markdown",
   "metadata": {},
   "source": [
    "## Fibonacci example"
   ]
  },
  {
   "cell_type": "code",
   "execution_count": 99,
   "metadata": {
    "scrolled": false
   },
   "outputs": [
    {
     "name": "stdout",
     "output_type": "stream",
     "text": [
      "[1, 1, 2, 3, 5, 8, 13, 21, 34, 55]\n",
      "55\n"
     ]
    }
   ],
   "source": [
    "def fibbonacci_sequence(n):\n",
    "    \"\"\"\n",
    "    Generates the Fibonacci sequence\n",
    "    :param n: number of items calculated from the Fibonacci sequence\n",
    "    :yield: the fibonacci number\n",
    "    \"\"\"\n",
    "    first, second = 0, 1\n",
    "    for i in range(0, n):\n",
    "        if i == 0:\n",
    "            yield 1\n",
    "        else:\n",
    "            yield first + second\n",
    "            first, second = second, first + second\n",
    "\n",
    "# CODE\n",
    "print(list(fibbonacci_sequence(10)))\n",
    "print(max(fibbonacci_sequence(10)))"
   ]
  },
  {
   "cell_type": "markdown",
   "metadata": {},
   "source": [
    "# 2. Using Generators as Context Managers\n",
    "Python object able to act as a control structure when used after \"with\" statement."
   ]
  },
  {
   "cell_type": "markdown",
   "metadata": {},
   "source": [
    "## Context manager using yield and @contextmanager decorator"
   ]
  },
  {
   "cell_type": "code",
   "execution_count": 138,
   "metadata": {},
   "outputs": [
    {
     "name": "stdout",
     "output_type": "stream",
     "text": [
      "some_property = 5\n",
      "some_property = 6\n",
      "some_property = 5\n"
     ]
    }
   ],
   "source": [
    "from contextlib import contextmanager\n",
    "\n",
    "@contextmanager\n",
    "def simple_context_manager(obj):\n",
    "    try:\n",
    "        obj.some_property += 1 # do something\n",
    "        yield\n",
    "    finally:\n",
    "        obj.some_property -= 1 # Wrap up\n",
    "        \n",
    "class SomeObj(object):\n",
    "    def __init__(self, arg):\n",
    "        self.some_property = arg\n",
    "\n",
    "# Create the object\n",
    "obj = SomeObj(5)\n",
    "\n",
    "# Print some property\n",
    "print(f\"some_property = {obj.some_property}\")\n",
    "\n",
    "# Print yield property with the context manager\n",
    "with simple_context_manager(obj):\n",
    "    print(f\"some_property = {obj.some_property}\")\n",
    "    \n",
    "# Print some property again to check\n",
    "print(f\"some_property = {obj.some_property}\")"
   ]
  },
  {
   "cell_type": "markdown",
   "metadata": {},
   "source": [
    "## Example in use"
   ]
  },
  {
   "cell_type": "code",
   "execution_count": 157,
   "metadata": {},
   "outputs": [
    {
     "name": "stdout",
     "output_type": "stream",
     "text": [
      "this is the header \n",
      "\n",
      "this is a test\n",
      "\n",
      "this is the footer \n",
      "\n"
     ]
    }
   ],
   "source": [
    "from contextlib import contextmanager\n",
    "\n",
    "HEADER = \"this is the header \\n\\n\"\n",
    "FOOTER = \"\\n\\nthis is the footer \\n\"\n",
    "\n",
    "@contextmanager\n",
    "def new_log_file(name):    \n",
    "    try:\n",
    "        logname = name\n",
    "        f = open(logname, 'w')\n",
    "        f.write(HEADER)\n",
    "        yield f\n",
    "    finally:\n",
    "        f.write(FOOTER)\n",
    "        f.close()\n",
    "\n",
    "        \n",
    "# TEST CODE\n",
    "# Test new_log_file context manager\n",
    "file_name = \"Test Name.txt\"\n",
    "with new_log_file(file_name) as f:\n",
    "    f.write('this is a test')\n",
    "    \n",
    "# Print file generated\n",
    "with open(file_name) as f:\n",
    "    print(f.read())"
   ]
  },
  {
   "cell_type": "markdown",
   "metadata": {},
   "source": [
    "# 3. Coroutines\n",
    "Coroutines are build from a generator, but is conceptually different.\n",
    "Element you give constantly things and may no return anything, instead it takes what is passed and do something with it. The main different with the generators is that the coroutines are not made for iteration.\n",
    "\n",
    "- Repeatedly receives input.\n",
    "- Processes input.\n",
    "- Stops at yield statement.\n",
    "\n",
    "Yield in corutines pauses flow and captures sent values."
   ]
  },
  {
   "cell_type": "code",
   "execution_count": 172,
   "metadata": {},
   "outputs": [
    {
     "name": "stdout",
     "output_type": "stream",
     "text": [
      "Cali\n",
      "nia\n",
      "No Match\n",
      "Not a string\n",
      "2\n"
     ]
    }
   ],
   "source": [
    "def counter(string):\n",
    "    \"\"\"Coroutine that sents one item at a time, and determine\n",
    "    whether or not input is a string\"\"\"\n",
    "    count = 0\n",
    "    try:\n",
    "        while True:\n",
    "            item = yield\n",
    "            # Check if the item is a string\n",
    "            if isinstance(item, str):\n",
    "                # Check if item is inside string variable\n",
    "                if item in string:\n",
    "                    count += 1\n",
    "                    print(item)\n",
    "                else:\n",
    "                    print('No Match')\n",
    "            else:\n",
    "                print('Not a string')\n",
    "    except GeneratorExit:\n",
    "        print(count)\n",
    "        \n",
    "        \n",
    "# TEST CODE\n",
    "# Initializates the corutine function\n",
    "c = counter('California')\n",
    "\n",
    "# Prime the corutine and starting iteration at yield point\n",
    "next(c)\n",
    "\n",
    "# Sending some strings\n",
    "c.send('Cali') # Getting a match\n",
    "c.send('nia') # Getting a match\n",
    "c.send('Hawaii') # Getting a no match\n",
    "c.send(123)  # Getting a not a string\n",
    "\n",
    "# Ending the corutine function and stoping iteration\n",
    "c.close() # Outputs the counter variable"
   ]
  },
  {
   "cell_type": "markdown",
   "metadata": {},
   "source": [
    "## Coroutine Decorator"
   ]
  },
  {
   "cell_type": "code",
   "execution_count": 175,
   "metadata": {},
   "outputs": [
    {
     "name": "stdout",
     "output_type": "stream",
     "text": [
      "Test the coroutine\n"
     ]
    }
   ],
   "source": [
    "def coroutine_decorator(func):\n",
    "    def wrap(*args, **kwargs):\n",
    "        cr = func(*args, **kwargs)\n",
    "        next(cr)\n",
    "        return cr\n",
    "    return wrap\n",
    "\n",
    "\n",
    "@coroutine_decorator\n",
    "def coroutine_example():\n",
    "    while True:\n",
    "        x = yield\n",
    "        #do something with x\n",
    "        print(x)\n",
    "        \n",
    "c = coroutine_example()\n",
    "c.send('Test the coroutine')"
   ]
  },
  {
   "cell_type": "markdown",
   "metadata": {},
   "source": [
    "### Example\n",
    "The concept of coroutines allow to keep the logic of opening and reading files, completely separate from filtering and counting it.\n",
    "\n",
    "For this example we are using a list instead of a file to separate the \"reading\" from the processing."
   ]
  },
  {
   "cell_type": "code",
   "execution_count": 203,
   "metadata": {
    "scrolled": true
   },
   "outputs": [
    {
     "name": "stdout",
     "output_type": "stream",
     "text": [
      "6 reults founded for string \"da\"\n",
      "There are 17 words longer than \"6\"\n"
     ]
    }
   ],
   "source": [
    "# Starting variable\n",
    "names_str = \"\"\"Rhoda Hajdukjo Armanda Pilling joLahoma Mondragon\n",
    "Angle Rase Dave Cudd Dawna Estey Jone Jiron Karina Vandyne\n",
    "Calista Overbay Cherise Retana Pearly Breece Lashanda Demoura\n",
    "Jannie Hickey Tommie Leung Bong Humbertson Clifton Nees Maxwell Coupe\n",
    "Maryam Lyons Vasiliki Stonge Danita Vallance Trisha Belin Salena Dulmage\"\"\"\n",
    "\n",
    "# Sender function\n",
    "def sender(string, target):\n",
    "    \"\"\"Is going to read the file and send it to a coroutine\"\"\"\n",
    "    var_ready = string.split(' ')\n",
    "    for i in var_ready:\n",
    "        target.send(i.lower())\n",
    "    target.close()\n",
    "    \n",
    "\n",
    "@coroutine_decorator\n",
    "def match_counter(string):\n",
    "    \"\"\"Count the number of elements containing the string passed\n",
    "    :string: string passed to check if is in the passed elements\n",
    "    \"\"\"\n",
    "    count = 0\n",
    "    try:\n",
    "        while True:\n",
    "            word = yield\n",
    "            if string in word:\n",
    "                count += 1\n",
    "    except GeneratorExit:\n",
    "        print(f'{count} reults founded for string \\\"{string}\\\"')\n",
    "        \n",
    "@coroutine_decorator\n",
    "def longer_than(n):\n",
    "    \"\"\"Check the number of elements longer than n\n",
    "    :n: number of letters to check as a limit\n",
    "    \"\"\"\n",
    "    count = 0\n",
    "    try:\n",
    "        while True:\n",
    "            word = yield\n",
    "            if len(word) > n:\n",
    "                count += 1\n",
    "    except GeneratorExit:\n",
    "        print(f'There are {count} words longer than \\\"{n}\\\"')\n",
    "\n",
    "# Test match_counter coroutine\n",
    "c_match_counter = match_counter('da')\n",
    "sender(names_str, c_match_counter)\n",
    "\n",
    "# Test longer_than coroutine\n",
    "c_longer_than = longer_than(6)\n",
    "sender(names_str, c_longer_than)"
   ]
  },
  {
   "cell_type": "markdown",
   "metadata": {},
   "source": [
    "## Coroutine Pipelines"
   ]
  },
  {
   "cell_type": "code",
   "execution_count": 209,
   "metadata": {},
   "outputs": [],
   "source": [
    "# Creating the variable\n",
    "names = ['Rhoda Hajdukjo', 'Armanda Pilling', 'joLahoma Mondragon',\n",
    "         'Angle Rase', 'Dave Cudd', 'Dawna Estey', 'Jone Jiron',\n",
    "         'Karina Vandyne', 'Calista Overbay', 'Cherise Retana',\n",
    "         'Pearly Breece', 'Lashanda Demoura', 'Jannie Hickey',\n",
    "         'Tommie Leung', 'Bong Humbertson', 'Clifton Nees']\n",
    "\n",
    "# Creating router coroutine\n",
    "@coroutine_decorator\n",
    "def router():\n",
    "    \"\"\"It both receives data and sends data.\n",
    "    Can branch in more than one direction and send to multiple targets\"\"\"\n",
    "    try:\n",
    "        while True: \n",
    "            name = yield\n",
    "            (first, last) = name.split(' ')\n",
    "            fnames.send(first)\n",
    "            lnames.send(last.strip())\n",
    "    except GeneratorExit:\n",
    "        fnames.close()\n",
    "        lnames.close()\n",
    "        \n",
    "\n",
    "# Creating file_write coroutine\n",
    "@coroutine_decorator\n",
    "def file_write(filename: str):\n",
    "    \"\"\"Get the words from the list split it into first and last names\"\"\"\n",
    "    try:\n",
    "        with open(filename, 'a') as file:\n",
    "            while True:\n",
    "                line = yield\n",
    "                file.write(line+'\\n')\n",
    "    except GeneratorExit:\n",
    "        file.close()\n",
    "\n",
    "# CODE\n",
    "if __name__==\"__main__\":\n",
    "    fnames = file_write('first_names.txt')\n",
    "    lnames = file_write('last_names.txt')\n",
    "    router = router()\n",
    "    \n",
    "    # Loop to iterate through the names\n",
    "    for name in names:\n",
    "        router.send(name)\n",
    "    router.close()"
   ]
  }
 ],
 "metadata": {
  "kernelspec": {
   "display_name": "Python 3",
   "language": "python",
   "name": "python3"
  },
  "language_info": {
   "codemirror_mode": {
    "name": "ipython",
    "version": 3
   },
   "file_extension": ".py",
   "mimetype": "text/x-python",
   "name": "python",
   "nbconvert_exporter": "python",
   "pygments_lexer": "ipython3",
   "version": "3.8.2"
  }
 },
 "nbformat": 4,
 "nbformat_minor": 5
}
